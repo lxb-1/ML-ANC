{
 "cells": [
  {
   "cell_type": "code",
   "execution_count": 2,
   "metadata": {},
   "outputs": [
    {
     "ename": "ImportError",
     "evalue": "cannot import name 'perm' from 'utils.Mean_Vector_utils' (/home/liang/文档/Coding/Machine Learning/MOEAD/utils/Mean_Vector_utils.py)",
     "output_type": "error",
     "traceback": [
      "\u001b[0;31m---------------------------------------------------------------------------\u001b[0m",
      "\u001b[0;31mImportError\u001b[0m                               Traceback (most recent call last)",
      "Cell \u001b[0;32mIn [2], line 1\u001b[0m\n\u001b[0;32m----> 1\u001b[0m \u001b[38;5;28;01mfrom\u001b[39;00m \u001b[38;5;21;01mutils\u001b[39;00m\u001b[38;5;21;01m.\u001b[39;00m\u001b[38;5;21;01mMean_Vector_utils\u001b[39;00m \u001b[38;5;28;01mimport\u001b[39;00m perm\n",
      "\u001b[0;31mImportError\u001b[0m: cannot import name 'perm' from 'utils.Mean_Vector_utils' (/home/liang/文档/Coding/Machine Learning/MOEAD/utils/Mean_Vector_utils.py)"
     ]
    }
   ],
   "source": []
  }
 ],
 "metadata": {
  "kernelspec": {
   "display_name": "Python 3.8.13 ('ML_ANC')",
   "language": "python",
   "name": "python3"
  },
  "language_info": {
   "codemirror_mode": {
    "name": "ipython",
    "version": 3
   },
   "file_extension": ".py",
   "mimetype": "text/x-python",
   "name": "python",
   "nbconvert_exporter": "python",
   "pygments_lexer": "ipython3",
   "version": "3.8.13"
  },
  "orig_nbformat": 4,
  "vscode": {
   "interpreter": {
    "hash": "fceebbce8eb2261450aba5e48f14c5ff71217e980afebe05bfcb29e9035c5af0"
   }
  }
 },
 "nbformat": 4,
 "nbformat_minor": 2
}
