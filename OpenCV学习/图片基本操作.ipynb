{
 "cells": [
  {
   "cell_type": "markdown",
   "metadata": {},
   "source": [
    "# 图片的基本操作\n",
    "\n",
    "## 图像数据的读取与保存\n",
    "\n",
    "- `cv2.IMREAD_COLOR`：彩色图像\n",
    "- `cv2.IMREAD_GRAYSCALE`：灰度图像"
   ]
  },
  {
   "cell_type": "code",
   "execution_count": 1,
   "metadata": {},
   "outputs": [],
   "source": [
    "import cv2  # opencv读取的格式是BGR\n",
    "import matplotlib.pyplot as plt\n",
    "import numpy as np\n",
    "\n",
    "# %matplotlib inline"
   ]
  },
  {
   "cell_type": "code",
   "execution_count": 2,
   "metadata": {},
   "outputs": [
    {
     "name": "stdout",
     "output_type": "stream",
     "text": [
      "读取图片的数据格式为： <class 'numpy.ndarray'>\n",
      "读取图片的形状为： (350, 490, 3)\n",
      "[[[ 80 131  93]\n",
      "  [ 81 132  94]\n",
      "  [ 84 135  97]\n",
      "  ...\n",
      "  [ 31  45  21]\n",
      "  [ 28  42  18]\n",
      "  [ 28  42  18]]\n",
      "\n",
      " [[ 81 132  94]\n",
      "  [ 82 133  95]\n",
      "  [ 83 134  96]\n",
      "  ...\n",
      "  [ 31  45  21]\n",
      "  [ 28  42  18]\n",
      "  [ 28  42  18]]\n",
      "\n",
      " [[ 82 133  95]\n",
      "  [ 82 133  95]\n",
      "  [ 82 133  95]\n",
      "  ...\n",
      "  [ 31  45  21]\n",
      "  [ 28  42  18]\n",
      "  [ 28  42  18]]\n",
      "\n",
      " ...\n",
      "\n",
      " [[ 79 123 100]\n",
      "  [ 80 124 101]\n",
      "  [ 81 125 102]\n",
      "  ...\n",
      "  [ 59 103  66]\n",
      "  [ 59 103  66]\n",
      "  [ 59 103  66]]\n",
      "\n",
      " [[ 78 122  99]\n",
      "  [ 79 123 100]\n",
      "  [ 81 125 102]\n",
      "  ...\n",
      "  [ 59 103  66]\n",
      "  [ 56 100  63]\n",
      "  [ 56 100  63]]\n",
      "\n",
      " [[ 79 123 100]\n",
      "  [ 80 124 101]\n",
      "  [ 82 126 103]\n",
      "  ...\n",
      "  [ 59 103  66]\n",
      "  [ 55  99  62]\n",
      "  [ 55  99  62]]]\n"
     ]
    }
   ],
   "source": [
    "img = cv2.imread('cat_dog.jpg')\n",
    "\n",
    "print(\"读取图片的数据格式为：\", type(img))\n",
    "print(\"读取图片的形状为：\", img.shape)\n",
    "print(img)\n"
   ]
  },
  {
   "cell_type": "code",
   "execution_count": 3,
   "metadata": {},
   "outputs": [],
   "source": [
    "# 图像的现实，也可以创建多个窗口\n",
    "# cv2.imshow('image', img)\n",
    "# cv2.waitKey(0)\n",
    "# cv2.destroyAllWindows()"
   ]
  },
  {
   "cell_type": "markdown",
   "metadata": {},
   "source": [
    "为了便于以后更方便进行图片现实，下面定义一个图片显示函数`cv_show()`"
   ]
  },
  {
   "cell_type": "code",
   "execution_count": 4,
   "metadata": {},
   "outputs": [],
   "source": [
    "def cv_show(name, img):\n",
    "    \"\"\"作用：显示图片\n",
    "\n",
    "    Args:\n",
    "        name (字符串): 图片框名称\n",
    "        img (ndarray): 图片矩阵数据\n",
    "    \"\"\"\n",
    "    cv2.imshow(name, img)\n",
    "    cv2.waitKey(0)\n",
    "    cv2.destroyAllWindows()"
   ]
  },
  {
   "cell_type": "code",
   "execution_count": 3,
   "metadata": {},
   "outputs": [
    {
     "name": "stdout",
     "output_type": "stream",
     "text": [
      "读取图片数据的形状为： (350, 490)\n"
     ]
    }
   ],
   "source": [
    "# 读取图片的灰度图\n",
    "img_gray = cv2.imread('cat_dog.jpg', cv2.IMREAD_GRAYSCALE)\n",
    "print(\"读取图片数据的形状为：\", img_gray.shape)\n",
    "\n",
    "# 现实图片\n",
    "# cv_show('gray image', img_gray)"
   ]
  },
  {
   "cell_type": "markdown",
   "metadata": {},
   "source": [
    "对于图片的保存，可以使用`cv2.imwrite()`方法实现"
   ]
  },
  {
   "cell_type": "code",
   "execution_count": 6,
   "metadata": {},
   "outputs": [
    {
     "data": {
      "text/plain": [
       "True"
      ]
     },
     "execution_count": 6,
     "metadata": {},
     "output_type": "execute_result"
    }
   ],
   "source": [
    "cv2.imwrite('cat_dog_gray.jpg', img_gray)"
   ]
  },
  {
   "cell_type": "markdown",
   "metadata": {},
   "source": [
    "## 截取部分图片数据"
   ]
  },
  {
   "cell_type": "code",
   "execution_count": 7,
   "metadata": {},
   "outputs": [],
   "source": [
    "img_part = cv2.imread('cat_dog.jpg')[0:200, 0:100]\n",
    "cv_show('part', img_part)"
   ]
  },
  {
   "cell_type": "markdown",
   "metadata": {},
   "source": [
    "## 颜色通道提取与合并\n",
    "\n",
    "- `cv2.split()`：图片颜色通道的提取\n",
    "- `cv2.merge()`：图片颜色通道的合并"
   ]
  },
  {
   "cell_type": "code",
   "execution_count": 10,
   "metadata": {},
   "outputs": [],
   "source": [
    "# 注意bgr的顺序\n",
    "# 使用cv2.split()方法分别提取图片的三个通道的数据\n",
    "b, g, r = cv2.split(img)\n",
    "\n",
    "# 使用cv2.merge()方法合并图片通道\n",
    "img_merge = cv2.merge((b, g, r))"
   ]
  },
  {
   "cell_type": "markdown",
   "metadata": {},
   "source": [
    "如果我们只想保留图片中B、G、R中的一个可以通过下面的方法实现"
   ]
  },
  {
   "cell_type": "code",
   "execution_count": null,
   "metadata": {},
   "outputs": [],
   "source": [
    "# 只保留图片的红色通道\n",
    "R_img = img.copy()\n",
    "R_img[:, :, 0] = 0\n",
    "R_img[:, :, 1] = 0\n",
    "# 查看处理结果\n",
    "# cv_show('R', R_img)\n",
    "\n",
    "# 只保留图片的绿色通道\n",
    "B_img = img.copy()\n",
    "B_img[:, :, 0] = 0\n",
    "B_img[:, :, 2] = 0\n",
    "# 查看处理结果\n",
    "# cv_show('B', B_img)\n",
    "\n",
    "# 只保留图片的蓝色通道\n",
    "B_img = img.copy()\n",
    "B_img[:, :, 1] = 0\n",
    "B_img[:, :, 2] = 0\n",
    "# 查看处理结果\n",
    "# cv_show('B', B_img)"
   ]
  },
  {
   "cell_type": "markdown",
   "metadata": {},
   "source": [
    "## 图片的边界填充"
   ]
  },
  {
   "cell_type": "markdown",
   "metadata": {},
   "source": []
  }
 ],
 "metadata": {
  "kernelspec": {
   "display_name": "Python 3.9.13 ('base')",
   "language": "python",
   "name": "python3"
  },
  "language_info": {
   "codemirror_mode": {
    "name": "ipython",
    "version": 3
   },
   "file_extension": ".py",
   "mimetype": "text/x-python",
   "name": "python",
   "nbconvert_exporter": "python",
   "pygments_lexer": "ipython3",
   "version": "3.9.13"
  },
  "orig_nbformat": 4,
  "vscode": {
   "interpreter": {
    "hash": "a663d525a294a75b868378a51d8db00740236484748f17e7fef628dae424325b"
   }
  }
 },
 "nbformat": 4,
 "nbformat_minor": 2
}
