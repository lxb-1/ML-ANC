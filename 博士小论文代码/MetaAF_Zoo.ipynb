{
 "cells": [
  {
   "cell_type": "markdown",
   "metadata": {},
   "source": [
    "# Meta-AF Zoo\n",
    "\n",
    "The Meta-AF Zoo folder contains implementations of system identification, acoustic echo cancellation, equalization, weighted prediction error dereverberation, and a generalized sidelobe canceller beamformer as developed in our paper.\n",
    "\n",
    "MetaAF Zoo文件夹包含系统识别（system identification）、声学回波消除（acoustic echo cancellation）、均衡（equalization）、加权预测误差去混响（weighted prediction error dereverberation）以及本文中开发的广义旁瓣消除器波束形成器(generalized sidelobe canceller beamformer)的实现。\n",
    "\n"
   ]
  },
  {
   "cell_type": "markdown",
   "metadata": {},
   "source": [
    "## Zoo Structure\n",
    "\n",
    "The aec task and sub-directory has `aec.py`, `aec_baselines.py`, and `aec_eval.py` files. The first constains the filter defitions, dataset, and is the entry point for training a model. The second file is used to tune baselines and produces a tuned baseline checkpoint. The third file is used for evaluation and uses checkpoints produced from the first or second files. As seen below, all tasks have these same three files. The `aec` module contains two extra baselines, a `Kalman filter`, and `Speex` whereas the `wpe` module only has the `NARA-WPE baseline`.\n",
    "\n",
    "`aec`任务和子目录具有`aec.py`、`aec_baselines.py`以及`aec_ eval`，其中：\n",
    "\n",
    "- `aec.py`：包括过滤器的定义、数据集的构造，即训练模型的入口点\n",
    "- `aec_baselines.py`：调整基线（tune baselines），并生成调整的基线检查点（tuned baseline checkpoint）\n",
    "- `aec_eval.py`：用于评估，并使用`aec.py`或`aec_baselines.py`文件生成的检查点。\n",
    "\n",
    "所有模块（`aec`、`eq`、`gsc`、`wpe`）都具有这三个相同的文件。\n",
    "\n",
    "各个模块之间除了上面的相同之处，还具有以下不同之处：\n",
    "\n",
    "- `aec`模块还包括另外两个基线文件：卡尔曼滤波器文件（`optimizer_kf.py`）和`Speex`文件（`speex_aec_eval.py`）\n",
    "- `wpe`文件仅仅包括`NARA-WPE`基线文件（`nara_wpe_eval.py`）\n",
    "\n",
    "另外，`metrics.py`文件包括常用的音频衡量指标（比如，`SNR`、`SRR`、`SI-SDR`、`STOI`）及其 segmental variations 的代码实现或封装。"
   ]
  },
  {
   "cell_type": "markdown",
   "metadata": {},
   "source": [
    "## 运行Zoo模型\n",
    "\n",
    "To train a model, navigate to the task directory and run `<task>.py` with the desired arguments. You can find the commands we used to run all our experiments in each `<task>.py` file. For example, to train an AEC model with a 2048 window, 1024 hop, on the nonlinear dataset with double-talk all on a single-gpu with batch size 64 do:\n",
    "\n",
    "要训练模型，我们可以导航到任务目录并传递所需要的参数运行`<task>.py`文件。比如，要在批量大小为64的单个GPU上训练具有2048个窗口、1024个滑动（hop）的`AEC`模型，可以执行下面的代码："
   ]
  }
 ],
 "metadata": {
  "kernelspec": {
   "display_name": "Python 3.9.13 ('base')",
   "language": "python",
   "name": "python3"
  },
  "language_info": {
   "codemirror_mode": {
    "name": "ipython",
    "version": 3
   },
   "file_extension": ".py",
   "mimetype": "text/x-python",
   "name": "python",
   "nbconvert_exporter": "python",
   "pygments_lexer": "ipython3",
   "version": "3.9.13"
  },
  "orig_nbformat": 4,
  "vscode": {
   "interpreter": {
    "hash": "a663d525a294a75b868378a51d8db00740236484748f17e7fef628dae424325b"
   }
  }
 },
 "nbformat": 4,
 "nbformat_minor": 2
}
