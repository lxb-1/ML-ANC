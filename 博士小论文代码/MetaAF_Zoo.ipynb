{
 "cells": [
  {
   "cell_type": "markdown",
   "metadata": {},
   "source": [
    "# Meta-AF Zoo\n",
    "\n",
    "The Meta-AF Zoo folder contains implementations of system identification, acoustic echo cancellation, equalization, weighted prediction error dereverberation, and a generalized sidelobe canceller beamformer as developed in our paper.\n",
    "\n",
    "MetaAF Zoo文件夹包含系统识别（system identification）、声学回波消除（acoustic echo cancellation）、均衡（equalization）、加权预测误差去混响（weighted prediction error dereverberation）以及本文中开发的广义旁瓣消除器波束形成器(generalized sidelobe canceller beamformer)的实现。\n",
    "\n"
   ]
  },
  {
   "cell_type": "markdown",
   "metadata": {},
   "source": [
    "## Zoo Structure\n",
    "\n",
    "The aec task and sub-directory has `aec.py`, `aec_baselines.py`, and `aec_eval.py` files. The first constains the filter defitions, dataset, and is the entry point for training a model.\n",
    "\n",
    "`aec`任务和子目录具有`aec.py`、`aec_baselines.py`以及`aec_ eval`。第一个是过滤器定义，数据集，是训练模型的入口点。第二个文件用于调整基线，并生成调整的基线检查点。第三个文件用于评估，并使用从第一个或第二个文件生成的检查点。如下所示，所有任务都有这三个相同的文件。aec模块包含两个额外基线，一个卡尔曼滤波器和Speex，而wpe模块只有NARA-wpe基线。附加度量。py包含常用度量的实现或包装，如SNR、SRR、SI-SDR、STOI及其分段变化。"
   ]
  },
  {
   "cell_type": "markdown",
   "metadata": {},
   "source": []
  }
 ],
 "metadata": {
  "kernelspec": {
   "display_name": "Python 3.9.13 ('base')",
   "language": "python",
   "name": "python3"
  },
  "language_info": {
   "name": "python",
   "version": "3.9.13"
  },
  "orig_nbformat": 4,
  "vscode": {
   "interpreter": {
    "hash": "a663d525a294a75b868378a51d8db00740236484748f17e7fef628dae424325b"
   }
  }
 },
 "nbformat": 4,
 "nbformat_minor": 2
}
