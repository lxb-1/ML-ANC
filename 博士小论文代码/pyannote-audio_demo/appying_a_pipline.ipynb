{
 "cells": [
  {
   "cell_type": "markdown",
   "metadata": {},
   "source": [
    "## 三、Applying a pretrained pipeline（流水线条）\n",
    "\n",
    "在本教程中，介绍如何对一个音频文件使用 `pyannote.audio` pipeline。\n",
    "\n",
    "A pipeline takes an audio file as input and returns a labeled temporal segmentation of the audio file.\n",
    "\n",
    "流水线（pipeline）将音频文件作为输入，并返回一个带有标记的音频文件时间分段。\n",
    "\n",
    "More precisely, it usually applies a pretrained model (= neural network) on the audio file, post-processes the output of the model, and returns its output as a `pyannote.core.Annotation` instance. It should become clearer as you keep reading...\n",
    "\n",
    "更准确地说，它通常对音频文件应用预训练模型（神经网络），对模型的输出进行后处理，并将其输出返回为`pyannote.core.Annotation`实例。当你继续阅读时，它会变得更清晰。。。\n",
    "\n",
    "### 1、从Huggingface Model Hub上下载 pipeline\n",
    "\n",
    "预训练好的模型可以在[Huggingface Model Hub](https://huggingface.co/models?other=pyannote-audio-model)上下载。"
   ]
  },
  {
   "cell_type": "code",
   "execution_count": 4,
   "metadata": {},
   "outputs": [
    {
     "data": {
      "text/plain": [
       "['pyannote/segmentation',\n",
       " 'pyannote/embedding',\n",
       " 'pyannote/TestModelForContinuousIntegration']"
      ]
     },
     "execution_count": 4,
     "metadata": {},
     "output_type": "execute_result"
    }
   ],
   "source": [
    "from huggingface_hub import HfApi\n",
    "\n",
    "available_models = [m.modelId for m in HfApi().list_models(filter=\"pyannote-audio-model\")]\n",
    "available_models"
   ]
  },
  {
   "cell_type": "markdown",
   "metadata": {},
   "source": [
    "下面下载 `speaker-diarization` pipeline"
   ]
  },
  {
   "cell_type": "code",
   "execution_count": 5,
   "metadata": {},
   "outputs": [
    {
     "name": "stderr",
     "output_type": "stream",
     "text": [
      "Downloading: 100%|██████████| 598/598 [00:00<00:00, 235kB/s]\n",
      "Downloading: 100%|██████████| 17.7M/17.7M [00:05<00:00, 3.08MB/s]\n",
      "Downloading: 100%|██████████| 318/318 [00:00<00:00, 125kB/s]\n",
      "Downloading: 100%|██████████| 1.92k/1.92k [00:00<00:00, 545kB/s]\n",
      "Downloading: 100%|██████████| 83.3M/83.3M [00:20<00:00, 4.09MB/s]\n",
      "Downloading: 100%|██████████| 1.92k/1.92k [00:00<00:00, 653kB/s]\n",
      "Downloading: 100%|██████████| 5.53M/5.53M [00:01<00:00, 2.82MB/s]\n",
      "Downloading: 100%|██████████| 129k/129k [00:00<00:00, 178kB/s]  \n"
     ]
    }
   ],
   "source": [
    "from pyannote.audio import Pipeline\n",
    "\n",
    "pipeline = Pipeline.from_pretrained(\"pyannote/speaker-diarization\")"
   ]
  },
  {
   "cell_type": "markdown",
   "metadata": {},
   "source": [
    "### 2、从一个 disk（？） 处理一个文件\n",
    "\n",
    "... and apply it to an audio file.\n",
    "\n",
    "将其应用于一个音频文件。\n",
    "\n",
    "The pipeline will automatically use GPUs when available. On CPU it might take a long while (up to 10x RT).\n",
    "\n",
    "当有GPU可以使用时，Pipeline将自动使用GPUs。"
   ]
  },
  {
   "cell_type": "code",
   "execution_count": 6,
   "metadata": {},
   "outputs": [],
   "source": [
    "# 首先克隆pyannote-audio Github仓库到本地，并将其根目录赋值给ROOT_DIR变量\n",
    "ROOT_DIR = \"/home/liang/GitHub/pyannote-audio\"\n",
    "AUDIO_FILE = f\"{ROOT_DIR}/tutorials/assets/sample.wav\"\n",
    "\n",
    "dia = pipeline(AUDIO_FILE)"
   ]
  },
  {
   "cell_type": "markdown",
   "metadata": {},
   "source": [
    "### 3、结果可视化\n",
    "\n",
    "Most pipelines return a pyannote.core.Annotation instance...\n",
    "\n",
    "大部分的 `piplines` 会返回一个 `pyannote.core.Annotation` 实例。。。"
   ]
  },
  {
   "cell_type": "code",
   "execution_count": 9,
   "metadata": {},
   "outputs": [
    {
     "name": "stdout",
     "output_type": "stream",
     "text": [
      "True\n"
     ]
    }
   ],
   "source": [
    "from pyannote.core import Annotation\n",
    "assert isinstance(dia, Annotation)\n",
    "\n",
    "print(isinstance(dia, Annotation))"
   ]
  },
  {
   "cell_type": "markdown",
   "metadata": {},
   "source": [
    "通过下面的代码可以输出 `dia` 的结果，具体可以参考 [Available Data Structures 中关于 Annotation API](https://pyannote.github.io/pyannote-core/structure.html#annotation)"
   ]
  },
  {
   "cell_type": "code",
   "execution_count": 8,
   "metadata": {},
   "outputs": [
    {
     "name": "stdout",
     "output_type": "stream",
     "text": [
      " 6.7  7.1 SPEAKER_02\n",
      " 7.6  8.6 SPEAKER_02\n",
      " 8.6 10.0 SPEAKER_01\n",
      " 9.8 11.0 SPEAKER_02\n",
      "10.6 14.7 SPEAKER_01\n",
      "14.3 17.9 SPEAKER_00\n",
      "17.9 21.5 SPEAKER_01\n",
      "18.3 18.4 SPEAKER_00\n",
      "21.7 28.6 SPEAKER_00\n",
      "27.8 29.5 SPEAKER_01\n"
     ]
    }
   ],
   "source": [
    "for speech_turn, track, speaker in dia.itertracks(yield_label=True):\n",
    "    print(f\"{speech_turn.start:4.1f} {speech_turn.end:4.1f} {speaker}\")"
   ]
  },
  {
   "cell_type": "markdown",
   "metadata": {},
   "source": [
    "通过下面的代码可以对 `dia` 进行可视化操作，具体可以参考[Visualization API](http://pyannote.github.io/pyannote-core/visualization.html)"
   ]
  },
  {
   "cell_type": "code",
   "execution_count": 10,
   "metadata": {},
   "outputs": [
    {
     "data": {
      "image/png": "[encoded data removed]",
      "text/plain": [
       "<pyannote.core.annotation.Annotation at 0x7f4101351100>"
      ]
     },
     "execution_count": 10,
     "metadata": {},
     "output_type": "execute_result"
    }
   ],
   "source": [
    "# 对[0, 30]时间范围进行可视化操作\n",
    "from pyannote.core import notebook, Segment\n",
    "notebook.crop = Segment(0, 30)\n",
    "dia"
   ]
  },
  {
   "cell_type": "markdown",
   "metadata": {},
   "source": [
    "When available, the reference annotation can be visualized too, for comparison:"
   ]
  },
  {
   "cell_type": "code",
   "execution_count": 11,
   "metadata": {},
   "outputs": [
    {
     "data": {
      "image/png": "[encoded data removed]",
      "text/plain": [
       "<pyannote.core.annotation.Annotation at 0x7f41041a1dc0>"
      ]
     },
     "execution_count": 11,
     "metadata": {},
     "output_type": "execute_result"
    }
   ],
   "source": [
    "from pyannote.database.util import load_rttm\n",
    "REFERENCE = f\"{ROOT_DIR}/tutorials/assets/sample.rttm\"\n",
    "reference = load_rttm(REFERENCE)[\"sample\"]\n",
    "\n",
    "# map hypothesized and reference speakers for visualization purposes\n",
    "pipeline.optimal_mapping(dia, reference)"
   ]
  },
  {
   "cell_type": "markdown",
   "metadata": {},
   "source": [
    "### 4、从内存中处理一个文件\n",
    "\n",
    "In case the audio file is not stored on disk, pipelines can also process audio provided as a `{\"waveform\": ..., \"sample_rate\": ...}` dictionary.\n",
    "\n",
    "当音频文件不是存储在 `disk` 中的文件时，pipelines 同样可以处理表示为 `{\"waveform\": ..., \"sample_rate\": ...}` 字典数据格式的音频。"
   ]
  },
  {
   "cell_type": "code",
   "execution_count": 17,
   "metadata": {},
   "outputs": [
    {
     "name": "stdout",
     "output_type": "stream",
     "text": [
      "type(waveform)=<class 'torch.Tensor'>\n",
      "waveform.shape=torch.Size([1, 480000])\n",
      "waveform.dtype=torch.float32\n"
     ]
    },
    {
     "data": {
      "text/plain": [
       "{'waveform': tensor([[ 0.0000,  0.0000,  0.0000,  ..., -0.0028, -0.0006,  0.0019]]),\n",
       " 'sample_rate': 16000}"
      ]
     },
     "execution_count": 17,
     "metadata": {},
     "output_type": "execute_result"
    }
   ],
   "source": [
    "import torchaudio\n",
    "\n",
    "waveform, sample_rate = torchaudio.load(AUDIO_FILE)\n",
    "\n",
    "# 输出waveform的数据类型\n",
    "print(f\"{type(waveform)=}\")\n",
    "# print(type(waveform))\n",
    "\n",
    "# 输出waveform的数据形状\n",
    "print(f\"{waveform.shape=}\")\n",
    "\n",
    "# 输出waveform中数据的数据类型\n",
    "print(f\"{waveform.dtype=}\")\n",
    "\n",
    "audio_in_memory = {\"waveform\": waveform, \"sample_rate\": sample_rate}\n",
    "\n",
    "audio_in_memory"
   ]
  },
  {
   "cell_type": "code",
   "execution_count": 18,
   "metadata": {},
   "outputs": [
    {
     "name": "stderr",
     "output_type": "stream",
     "text": [
      "Downloading: 100%|██████████| 277/277 [00:00<00:00, 99.3kB/s]\n",
      "Downloading: 100%|██████████| 17.7M/17.7M [00:30<00:00, 587kB/s] \n",
      "Downloading: 100%|██████████| 1.98k/1.98k [00:00<00:00, 737kB/s]\n"
     ]
    },
    {
     "data": {
      "image/png": "[encoded data removed]",
      "text/plain": [
       "<pyannote.core.annotation.Annotation at 0x7f40eac21df0>"
      ]
     },
     "execution_count": 18,
     "metadata": {},
     "output_type": "execute_result"
    }
   ],
   "source": [
    "vad = Pipeline.from_pretrained(\"pyannote/voice-activity-detection\")\n",
    "vad(audio_in_memory)"
   ]
  }
 ],
 "metadata": {
  "kernelspec": {
   "display_name": "Python 3.8.13 ('pyannote')",
   "language": "python",
   "name": "python3"
  },
  "language_info": {
   "codemirror_mode": {
    "name": "ipython",
    "version": 3
   },
   "file_extension": ".py",
   "mimetype": "text/x-python",
   "name": "python",
   "nbconvert_exporter": "python",
   "pygments_lexer": "ipython3",
   "version": "3.8.13"
  },
  "orig_nbformat": 4,
  "vscode": {
   "interpreter": {
    "hash": "2d594fd508d597f03413454a5debcd2763e6e14ea1f236a88a7b0725c19d0df1"
   }
  }
 },
 "nbformat": 4,
 "nbformat_minor": 2
}
