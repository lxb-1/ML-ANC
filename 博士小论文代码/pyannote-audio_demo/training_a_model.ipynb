{
 "cells": [
  {
   "cell_type": "markdown",
   "metadata": {},
   "source": [
    "## 二、Training, fine-tuning, and transfer learning with `pyannote.audio`\n",
    "\n",
    "In this tutorial, you will learn how to use `pyannote.audio` to\n",
    "\n",
    "- train a voice activity detection model from scratch,\n",
    "- fine-tune a pretrained speaker segmentation model,\n",
    "- perform transfer learning (from speaker segmentation to overlapped speech detection)\n",
    "\n",
    "在该手册中，将介绍如何使用 `pyannote.audio` 如实现如下内容：\n",
    "\n",
    "- train a voice activity detection model from scratch,\n",
    "- fine-tune a pretrained speaker segmentation model,\n",
    "- perform transfer learning (from speaker segmentation to overlapped speech detection)"
   ]
  },
  {
   "cell_type": "code",
   "execution_count": null,
   "metadata": {},
   "outputs": [],
   "source": [
    "# 为可视化提供画板，仅绘制180s ~ 240s的输出\n",
    "from pyannote.core import notebook, Segment\n",
    "notebook.crop = Segment(210, 240)"
   ]
  },
  {
   "cell_type": "markdown",
   "metadata": {},
   "source": [
    "### 数据准备\n",
    "\n"
   ]
  }
 ],
 "metadata": {
  "kernelspec": {
   "display_name": "Python 3.8.13 ('pyannote')",
   "language": "python",
   "name": "python3"
  },
  "language_info": {
   "name": "python",
   "version": "3.8.13"
  },
  "orig_nbformat": 4,
  "vscode": {
   "interpreter": {
    "hash": "2d594fd508d597f03413454a5debcd2763e6e14ea1f236a88a7b0725c19d0df1"
   }
  }
 },
 "nbformat": 4,
 "nbformat_minor": 2
}
