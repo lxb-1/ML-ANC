{
 "cells": [
  {
   "cell_type": "code",
   "execution_count": 1,
   "metadata": {},
   "outputs": [],
   "source": [
    "import numpy as np\n",
    "import matplotlib.pyplot as plt\n",
    "from scipy.io import wavfile\n",
    "from scipy.signal import fftconvolve\n",
    "\n",
    "import pyroomacoustics as pra\n",
    "import IPython"
   ]
  },
  {
   "cell_type": "code",
   "execution_count": 10,
   "metadata": {},
   "outputs": [
    {
     "data": {
      "image/png": "[encoded data removed]",
      "text/plain": [
       "<Figure size 640x480 with 1 Axes>"
      ]
     },
     "metadata": {},
     "output_type": "display_data"
    }
   ],
   "source": [
    "# 原始噪声信号\n",
    "fs, signal = wavfile.read(\"google_speech_commands/_background_noise_/pink_noise.wav\")\n",
    "\n",
    "# 将信号缩短为 50000\n",
    "signal = signal[0:50000]\n",
    "\n",
    "# 创建房间的节点\n",
    "corners = np.array([[0, 0], [0, 1.1], [2.2, 1.1], [2.2, 0]]).T\n",
    "\n",
    "# 向房间中添加信号源，首先构造一个 2D 房间，并设置房间的频率属性、ray_tracing、空气吸收率 (air_absorption)，最大阶数 (max_order)、材料 (materials) 参数进行设置，并生成新的 2D 房间 room 对象：\n",
    "room = pra.Room.from_corners(corners, fs=fs, ray_tracing=True, max_order=3, materials=pra.Material(0.2, 0.15))\n",
    "\n",
    "# 设置 ray_tracing 参数：接收半径 (receiver_radius)、n_ray、energy_thres\n",
    "room.set_ray_tracing(receiver_radius=0.5, n_rays=10000, energy_thres=1e-5)\n",
    "\n",
    "# 使用 add_sorce() 方法在 [0.02, 0.55] 处添加信号源头 signal\n",
    "# room.add_source([0.02, 0.55], signal=signal)\n",
    "\n",
    "# 在房间内部添加五个信号监测点： []\n",
    "E = np.array([[0.3, 1.9, 1.1, 0.3, 1.9], [0.2, 0.2, 0.55, 0.9, 0.9]])\n",
    "room.add_microphone(E)\n",
    "\n",
    "# 绘制房间\n",
    "fig, ax = room.plot()"
   ]
  },
  {
   "cell_type": "code",
   "execution_count": null,
   "metadata": {},
   "outputs": [],
   "source": [
    "from pymoo.core.problem import ElementwiseProblem\n",
    "\n",
    "# 下面设计基于 GA 的第二通道信号生成方法\n",
    "class MyProblem(ElementwiseProblem):\n",
    "\n",
    "    def __init__(self, elementwise=True, **kwargs):\n",
    "        super().__init__(\n",
    "            n_var=4,\n",
    "            n_obj=5,\n",
    "            n_ieq_constr=5,\n",
    "            # xl=np.array([np.min(signal), np.min(signal), np.min(signal), np.min(signal), np.min(signal)]),\n",
    "            # xu=np.array([[np.max(signal), np.max(signal), np.max(signal), np.max(signal), np.max(signal)]])\n",
    "            xl=0,\n",
    "            xu=5\n",
    "        )\n",
    "\n",
    "    def _evaluate(self, x, out, *args, **kwargs):\n",
    "        global i\n",
    "        i = 0\n",
    "        room.add_source([0.02, 0.55], signal=signal[i])\n",
    "        i = i + 1\n",
    "        room.image_source_model()   # 得到房间的 RIR\n",
    "        room.simulate()             # 为了得到麦克风的信号\n",
    "\n",
    "        # f1 = room.mic_array.signals[0]\n",
    "        # f2 = room.mic_array.signals[1]\n",
    "        # f3 = room.mic_array.signals[2]\n",
    "        # f4 = room.mic_array.signals[3]\n",
    "        # f5 = room.mic_array.signals[4]\n",
    "\n",
    "        f1 = room.add_source([2.18, 1.08], signal=x[0]) \n",
    "        f2 = x[1]\n",
    "        f3 = x[2]\n",
    "        f4 = x[3]\n",
    "        f5 = x[4]\n",
    "\n",
    "        g1 = -f1\n",
    "        g2 = -f2\n",
    "        g3 = -f3\n",
    "        g4 = -f4\n",
    "        g5 = -f5\n",
    "\n",
    "        out[\"F\"] = [f1, f2, f3, f4, f5]\n",
    "        out[\"G\"] = [g1, g2, g3, g4, g5]"
   ]
  },
  {
   "cell_type": "code",
   "execution_count": null,
   "metadata": {},
   "outputs": [],
   "source": []
  },
  {
   "cell_type": "code",
   "execution_count": null,
   "metadata": {},
   "outputs": [],
   "source": [
    "from pymoo.problems.functional import FunctionalProblem\n",
    "\n",
    "objs = [\n",
    "    lambda x: \n",
    "]"
   ]
  }
 ],
 "metadata": {
  "kernelspec": {
   "display_name": "Python 3.8.13 ('ANC')",
   "language": "python",
   "name": "python3"
  },
  "language_info": {
   "codemirror_mode": {
    "name": "ipython",
    "version": 3
   },
   "file_extension": ".py",
   "mimetype": "text/x-python",
   "name": "python",
   "nbconvert_exporter": "python",
   "pygments_lexer": "ipython3",
   "version": "3.8.13"
  },
  "orig_nbformat": 4,
  "vscode": {
   "interpreter": {
    "hash": "a6ce3b3976953dfed750c8eae14e0a8336bbd28342123e9e1a9df68c78125855"
   }
  }
 },
 "nbformat": 4,
 "nbformat_minor": 2
}
