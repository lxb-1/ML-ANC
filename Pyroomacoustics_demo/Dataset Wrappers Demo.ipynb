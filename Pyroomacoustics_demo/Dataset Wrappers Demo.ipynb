{
 "cells": [
  {
   "cell_type": "markdown",
   "metadata": {},
   "source": [
    "## 数据集封装器（Dataset Wrappers）的使用\n",
    "\n",
    "### 一、模块内容\n",
    "\n",
    "`Datasets` 中的子包为一些流行的音频数据集提供包装，以使它们更易于使用。\n",
    "\n",
    "Two base class [`pyroomacoustics.datasets.base.Dataset`](https://pyroomacoustics.readthedocs.io/en/pypi-release/pyroomacoustics.datasets.base.html#pyroomacoustics.datasets.base.Dataset \"pyroomacoustics.datasets.base.Dataset\") and [`pyroomacoustics.datasets.base.Sample`](https://pyroomacoustics.readthedocs.io/en/pypi-release/pyroomacoustics.datasets.base.html#pyroomacoustics.datasets.base.Sample \"pyroomacoustics.datasets.base.Sample\") wrap together the audio samples and their meta data. The general idea is to create a sample object with an attribute containing all metadata. Dataset objects that have a collection of samples can then be created and can be filtered according to the values in the metadata.\n",
    "\n",
    "`Datasets` 主要包括两个基类 `Dataset` 和 `Sample`，这两个基类将音频样本及其元数据封装在一起：\n",
    "\n",
    "- [`pyroomacoustics.datasets.base.Dataset`](https://pyroomacoustics.readthedocs.io/en/pypi-release/pyroomacoustics.datasets.base.html#pyroomacoustics.datasets.base.Dataset \"pyroomacoustics.datasets.base.Dataset\")\n",
    "- [`pyroomacoustics.datasets.base.Sample`](https://pyroomacoustics.readthedocs.io/en/pypi-release/pyroomacoustics.datasets.base.html#pyroomacoustics.datasets.base.Sample \"pyroomacoustics.datasets.base.Sample\")\n",
    "\n",
    "**其主要思想：**是创建一个包含所有元数据属性的样本对象。然后，就可以创建一个包含一系列样本的数据集对象，并可以根据元数据中的值进行过滤了。\n",
    "\n",
    "Many of the functions with `match` or `filter` will take an arbitrary number of keyword arguments. The keys should match some metadata in the samples. Then there are three ways that match occurs between a `key/value` pair and an `attribute` sharing the same key.\n",
    "\n",
    "许多带有 `match` 或 `filter` 的函数将采用任意数量的关键字参数。键应与采样样本中的某些元数据匹配。然后，在键/值对与共享一个键的属性之间具有以下三种匹配方式：\n",
    "\n",
    "1. `value == attribute`\n",
    "2. `value` is a list and `attribute in value == True`\n",
    "3. `value` is a callable (a function) and `value(attribute) == True`"
   ]
  },
  {
   "cell_type": "markdown",
   "metadata": {},
   "source": [
    "### 二、示例\n",
    "\n",
    "#### 2.1 例子1"
   ]
  },
  {
   "cell_type": "code",
   "execution_count": 13,
   "metadata": {},
   "outputs": [],
   "source": [
    "import pyroomacoustics as pra\n",
    "import IPython\n",
    "\n",
    "from pyroomacoustics.datasets.base import Dataset, Sample"
   ]
  },
  {
   "cell_type": "code",
   "execution_count": 14,
   "metadata": {},
   "outputs": [],
   "source": [
    "# # 准备一个自定义的抽样数据\n",
    "# samples = [\n",
    "#     # 数据1\n",
    "#     {\n",
    "#         'data'    : 0.99,\n",
    "#         'metadata': {\n",
    "#             'speaker': 'alice',\n",
    "#             'sex'    : 'female',\n",
    "#             'age'    : 37,\n",
    "#             'number' : 'one'\n",
    "#         },\n",
    "#     },\n",
    "\n",
    "#     # 数据2\n",
    "#     {\n",
    "#         'data'    : 2.1,\n",
    "#         'metadata': {\n",
    "#             'speaker': 'alice',\n",
    "#             'sex'    : 'female',\n",
    "#             'age'    : 37,\n",
    "#             'number' : 'two'\n",
    "#         },\n",
    "#     },\n",
    "\n",
    "#     # 数据3\n",
    "#     {\n",
    "#         'data'    : 1.02,\n",
    "#         'metadata': {\n",
    "#             'speaker': 'bob',\n",
    "#             'sex'    : 'male',\n",
    "#             'age'    : 48,\n",
    "#             'number' : 'one'\n",
    "#         },\n",
    "#     },\n",
    "\n",
    "#     # 数据4\n",
    "#     {\n",
    "#         'data'    : 2.07,\n",
    "#         'metadata': {\n",
    "#             'speaker': 'bob',\n",
    "#             'sex'    : 'male',\n",
    "#             'age'    : 48,\n",
    "#             'number' : 'two'\n",
    "#         },\n",
    "#     },\n",
    "# ]\n",
    "\n",
    "# corpus = Dataset()\n",
    "\n",
    "# for s in samples:\n",
    "#     new_sample = Sample(s['data'], **s['metadata'])\n",
    "#     corpus.add_sample(new_sample)\n",
    "\n",
    "# # 然后，查看corpus的数据信息\n",
    "# # print(corpus)\n",
    "\n",
    "# # print('Number of samples:', len(corpus))\n",
    "\n",
    "# # print(corpus[2])\n",
    "\n",
    "# corpus_male_only = corpus.filter(sex='male')\n",
    "\n",
    "# print(len(corpus_male_only))"
   ]
  },
  {
   "cell_type": "markdown",
   "metadata": {},
   "source": [
    "#### 2.2 例子2"
   ]
  },
  {
   "cell_type": "code",
   "execution_count": 15,
   "metadata": {},
   "outputs": [
    {
     "name": "stdout",
     "output_type": "stream",
     "text": [
      "The dataset contains 0 samples.\n",
      "Metadata attributes are:\n",
      "The first 10 / 0 samples:\n",
      "The number of sentences containing \"what\": 0\n"
     ]
    },
    {
     "ename": "IndexError",
     "evalue": "list index out of range",
     "output_type": "error",
     "traceback": [
      "\u001b[0;31m---------------------------------------------------------------------------\u001b[0m",
      "\u001b[0;31mIndexError\u001b[0m                                Traceback (most recent call last)",
      "Cell \u001b[0;32mIn [15], line 22\u001b[0m\n\u001b[1;32m     19\u001b[0m     \u001b[38;5;28mprint\u001b[39m(\u001b[38;5;124m'\u001b[39m\u001b[38;5;124m  *\u001b[39m\u001b[38;5;124m'\u001b[39m, s)\n\u001b[1;32m     21\u001b[0m \u001b[38;5;66;03m# if the sounddevice package is available, we can play the sample\u001b[39;00m\n\u001b[0;32m---> 22\u001b[0m \u001b[43mmatches\u001b[49m\u001b[43m[\u001b[49m\u001b[38;5;241;43m0\u001b[39;49m\u001b[43m]\u001b[49m\u001b[38;5;241m.\u001b[39mplay()\n\u001b[1;32m     24\u001b[0m \u001b[38;5;66;03m# show the spectrogram\u001b[39;00m\n\u001b[1;32m     25\u001b[0m plt\u001b[38;5;241m.\u001b[39mfigure()\n",
      "File \u001b[0;32m~/miniconda3/envs/pyannote/lib/python3.8/site-packages/pyroomacoustics/datasets/base.py:258\u001b[0m, in \u001b[0;36mDataset.__getitem__\u001b[0;34m(self, r)\u001b[0m\n\u001b[1;32m    257\u001b[0m \u001b[39mdef\u001b[39;00m \u001b[39m__getitem__\u001b[39m(\u001b[39mself\u001b[39m, r):\n\u001b[0;32m--> 258\u001b[0m     \u001b[39mreturn\u001b[39;00m \u001b[39mself\u001b[39;49m\u001b[39m.\u001b[39;49msamples[r]\n",
      "\u001b[0;31mIndexError\u001b[0m: list index out of range"
     ]
    }
   ],
   "source": [
    "# This example involves the CMU ARCTIC corpus available at\n",
    "# http://www.festvox.org/cmu_arctic/\n",
    "\n",
    "import matplotlib.pyplot as plt\n",
    "# from pyroomacoustics.datasets.base import \n",
    "\n",
    "# 下面是自动下载的扬声器 `bd1` 数据，赋值给 `corpus` 变量\n",
    "corpus = pra.datasets.CMUArcticCorpus(download=True, speaker=['bd1'])\n",
    "\n",
    "# print dataset info and 10 sentences\n",
    "print(corpus)\n",
    "corpus.head(n=10)\n",
    "\n",
    "# let's extract all samples containing the word 'what'\n",
    "keyword = 'what'\n",
    "matches = corpus.filter(text=lambda t : keyword in t)\n",
    "print('The number of sentences containing \"{}\": {}'.format(keyword, len(matches)))\n",
    "for s in matches.sentences:\n",
    "    print('  *', s)\n",
    "\n",
    "# if the sounddevice package is available, we can play the sample\n",
    "matches[0].play()\n",
    "\n",
    "# show the spectrogram\n",
    "plt.figure()\n",
    "matches[0].plot()\n",
    "plt.show()\n"
   ]
  }
 ],
 "metadata": {
  "kernelspec": {
   "display_name": "Python 3.8.13 ('pyannote')",
   "language": "python",
   "name": "python3"
  },
  "language_info": {
   "codemirror_mode": {
    "name": "ipython",
    "version": 3
   },
   "file_extension": ".py",
   "mimetype": "text/x-python",
   "name": "python",
   "nbconvert_exporter": "python",
   "pygments_lexer": "ipython3",
   "version": "3.8.13"
  },
  "orig_nbformat": 4,
  "vscode": {
   "interpreter": {
    "hash": "2d594fd508d597f03413454a5debcd2763e6e14ea1f236a88a7b0725c19d0df1"
   }
  }
 },
 "nbformat": 4,
 "nbformat_minor": 2
}
