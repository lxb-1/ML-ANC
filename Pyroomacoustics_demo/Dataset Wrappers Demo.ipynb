{
 "cells": [
  {
   "cell_type": "markdown",
   "metadata": {},
   "source": [
    "## 数据集封装器（Dataset Wrappers）的使用\n",
    "\n",
    "### 一、模块内容\n",
    "\n",
    "`Datasets` 中的子包为一些流行的音频数据集提供包装，以使它们更易于使用。\n",
    "\n",
    "Two base class [`pyroomacoustics.datasets.base.Dataset`](https://pyroomacoustics.readthedocs.io/en/pypi-release/pyroomacoustics.datasets.base.html#pyroomacoustics.datasets.base.Dataset \"pyroomacoustics.datasets.base.Dataset\") and [`pyroomacoustics.datasets.base.Sample`](https://pyroomacoustics.readthedocs.io/en/pypi-release/pyroomacoustics.datasets.base.html#pyroomacoustics.datasets.base.Sample \"pyroomacoustics.datasets.base.Sample\") wrap together the audio samples and their meta data. The general idea is to create a sample object with an attribute containing all metadata. Dataset objects that have a collection of samples can then be created and can be filtered according to the values in the metadata.\n",
    "\n",
    "`Datasets` 主要包括两个基类 `Dataset` 和 `Sample`，这两个基类将音频样本及其元数据封装在一起：\n",
    "\n",
    "- [`pyroomacoustics.datasets.base.Dataset`](https://pyroomacoustics.readthedocs.io/en/pypi-release/pyroomacoustics.datasets.base.html#pyroomacoustics.datasets.base.Dataset \"pyroomacoustics.datasets.base.Dataset\")\n",
    "- [`pyroomacoustics.datasets.base.Sample`](https://pyroomacoustics.readthedocs.io/en/pypi-release/pyroomacoustics.datasets.base.html#pyroomacoustics.datasets.base.Sample \"pyroomacoustics.datasets.base.Sample\")\n",
    "\n",
    "**其主要思想：**是创建一个包含所有元数据属性的样本对象。然后，就可以创建一个包含一系列样本的数据集对象，并可以根据元数据中的值进行过滤了。\n",
    "\n",
    "Many of the functions with `match` or `filter` will take an arbitrary number of keyword arguments. The keys should match some metadata in the samples. Then there are three ways that match occurs between a `key/value` pair and an `attribute` sharing the same key.\n",
    "\n",
    "许多带有 `match` 或 `filter` 的函数将采用任意数量的关键字参数。键应与采样样本中的某些元数据匹配。然后，在键/值对与共享一个键的属性之间具有以下三种匹配方式：\n",
    "\n",
    "1. `value == attribute`\n",
    "2. `value` is a list and `attribute in value == True`\n",
    "3. `value` is a callable (a function) and `value(attribute) == True`"
   ]
  },
  {
   "cell_type": "code",
   "execution_count": null,
   "metadata": {},
   "outputs": [],
   "source": [
    "# This example involves the CMU ARCTIC corpus available at\n",
    "# http://www.festvox.org/cmu_arctic/\n",
    "\n",
    "import matplotlib.pyplot as plt\n",
    "import pyroomacoustics as pra\n",
    "\n",
    "# Here, the corpus for speaker bdl is automatically downloaded\n",
    "# if it is not available already\n",
    "corpus = pra.datasets.CMUArcticCorpus(download=True, speaker=['bdl'])\n",
    "\n",
    "# print dataset info and 10 sentences\n",
    "print(corpus)\n",
    "corpus.head(n=10)\n",
    "\n",
    "# let's extract all samples containing the word 'what'\n",
    "keyword = 'what'\n",
    "matches = corpus.filter(text=lambda t : keyword in t)\n",
    "print('The number of sentences containing \"{}\": {}'.format(keyword, len(matches)))\n",
    "for s in matches.sentences:\n",
    "    print('  *', s)\n",
    "\n",
    "# if the sounddevice package is available, we can play the sample\n",
    "matches[0].play()\n",
    "\n",
    "# show the spectrogram\n",
    "plt.figure()\n",
    "matches[0].plot()\n",
    "plt.show()\n"
   ]
  }
 ],
 "metadata": {
  "kernelspec": {
   "display_name": "Python 3.8.13 ('pyannote')",
   "language": "python",
   "name": "python3"
  },
  "language_info": {
   "name": "python",
   "version": "3.8.13"
  },
  "orig_nbformat": 4,
  "vscode": {
   "interpreter": {
    "hash": "2d594fd508d597f03413454a5debcd2763e6e14ea1f236a88a7b0725c19d0df1"
   }
  }
 },
 "nbformat": 4,
 "nbformat_minor": 2
}
