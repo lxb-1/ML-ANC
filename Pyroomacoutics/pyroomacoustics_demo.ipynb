{
 "cells": [
  {
   "cell_type": "markdown",
   "metadata": {},
   "source": [
    "## pyroomacoustics demo\n",
    "\n",
    "在本脚本中，我们展示了一些有关`pyroomacoustics`的一些特性：\n",
    "\n",
    "- （1）相关python类变成与方便的面向对象接口。\n",
    "- （2）房间脉冲响应生成器（RIR，Room Impulse Response）。\n",
    "- （3）相关算法设计\n",
    "\n",
    "本脚本的演示示例列表：\n",
    "- 1、创建一个2D/3D房间\n",
    "- 2、添加声源和麦克风\n",
    "- 3、RIR生成以及传播仿真（propagation simulation）\n",
    "- 4、波束形成（Beamforming）\n",
    "- 5、波达方向（Direction-of-Arrival）\n",
    "- 6、自适应滤波（Adaptive filtering）\n",
    "- 7、短时傅利叶转换（STFT）处理\n",
    "- 8、源分离（Source Separation）\n",
    "\n",
    "更多内容可以参考[Pyroomacoustics的Github仓库](https://github.com/LCAV/pyroomacoustics)或者参考[论文](https://arxiv.org/pdf/1710.04196.pdf)，引用格式如下所示：\n",
    "\n",
    "R. Scheibler, E. Bezzam, I. Dokmanić, Pyroomacoustics: A Python package for audio room simulations and array processing algorithms, Proc. IEEE ICASSP, Calgary, CA, 2018."
   ]
  },
  {
   "cell_type": "code",
   "execution_count": 3,
   "metadata": {},
   "outputs": [],
   "source": [
    "# 倒入必要的软件包\n",
    "import numpy as np\n",
    "import matplotlib.pyplot as plt\n",
    "# from scipy.io import wavfile\n"
   ]
  }
 ],
 "metadata": {
  "kernelspec": {
   "display_name": "Python 3.9.12 ('base')",
   "language": "python",
   "name": "python3"
  },
  "language_info": {
   "codemirror_mode": {
    "name": "ipython",
    "version": 3
   },
   "file_extension": ".py",
   "mimetype": "text/x-python",
   "name": "python",
   "nbconvert_exporter": "python",
   "pygments_lexer": "ipython3",
   "version": "3.9.13"
  },
  "orig_nbformat": 4,
  "vscode": {
   "interpreter": {
    "hash": "a663d525a294a75b868378a51d8db00740236484748f17e7fef628dae424325b"
   }
  }
 },
 "nbformat": 4,
 "nbformat_minor": 2
}
