{
 "cells": [
  {
   "cell_type": "code",
   "execution_count": 1,
   "metadata": {},
   "outputs": [
    {
     "name": "stderr",
     "output_type": "stream",
     "text": [
      "/home/liang/miniconda3/lib/python3.9/site-packages/tqdm/auto.py:22: TqdmWarning: IProgress not found. Please update jupyter and ipywidgets. See https://ipywidgets.readthedocs.io/en/stable/user_install.html\n",
      "  from .autonotebook import tqdm as notebook_tqdm\n"
     ]
    }
   ],
   "source": [
    "import torch"
   ]
  },
  {
   "cell_type": "code",
   "execution_count": null,
   "metadata": {},
   "outputs": [],
   "source": []
  },
  {
   "cell_type": "code",
   "execution_count": null,
   "metadata": {},
   "outputs": [],
   "source": []
  },
  {
   "cell_type": "code",
   "execution_count": 15,
   "metadata": {},
   "outputs": [
    {
     "name": "stdout",
     "output_type": "stream",
     "text": [
      "张量tensor_1为\n",
      " tensor([[[-0.1632,  1.1833, -0.6498],\n",
      "         [-0.9807, -0.1747, -1.2085]]])\n",
      "\n",
      "张量的形状为： torch.Size([1, 2, 3])\n",
      "张量第0个维度的维数为： 1\n",
      "张量第1个维度的维数为： 2\n",
      "张量第2个维度的维数为： 3\n"
     ]
    }
   ],
   "source": [
    "# 生成一个维度为3的张量，三个维度的维数分别为1,2,3的张量tensor_1\n",
    "tensor_1 = torch.randn((1,2,3))\n",
    "\n",
    "# 输出张量tensor_1的维度和维数信息\n",
    "print(\"张量tensor_1为\\n\", tensor_1)\n",
    "print(\"\\n张量的形状为：\", tensor_1.size())\n",
    "print(\"张量第0个维度的维数为：\", tensor_1.size(0))\n",
    "print(\"张量第1个维度的维数为：\", tensor_1.size(1))\n",
    "print(\"张量第2个维度的维数为：\", tensor_1.size(2))"
   ]
  },
  {
   "cell_type": "markdown",
   "metadata": {},
   "source": []
  },
  {
   "cell_type": "code",
   "execution_count": 7,
   "metadata": {},
   "outputs": [
    {
     "name": "stdout",
     "output_type": "stream",
     "text": [
      "张量tensor_1为： tensor([1, 2, 3, 4, 5])\n",
      "张量tensor_1的形状为： torch.Size([5])\n",
      "张量tensor_1的形状为： torch.Size([5])\n"
     ]
    }
   ],
   "source": [
    "# 张量的形状\n",
    "tensor_1 = torch.tensor([1, 2, 3, 4, 5])\n",
    "print(\"张量tensor_1为：\", tensor_1)\n",
    "print(\"张量tensor_1的形状为：\", tensor_1.size())\n",
    "print(\"张量tensor_1的形状为：\", tensor_1.shape)"
   ]
  },
  {
   "cell_type": "code",
   "execution_count": 12,
   "metadata": {},
   "outputs": [
    {
     "name": "stdout",
     "output_type": "stream",
     "text": [
      "tensor([[1., 1., 1., 1.],\n",
      "        [1., 1., 1., 1.],\n",
      "        [1., 1., 1., 1.]])\n",
      "tensor([[-0.1934,  0.9732, -0.5484,  0.5571],\n",
      "        [ 0.3391, -0.1515,  0.2035,  1.1863],\n",
      "        [ 0.1748,  0.9750,  1.0552, -0.1245]])\n",
      "\n",
      "sub方法进行张量减法运算结果\n",
      " tensor([[ 1.1934,  0.0268,  1.5484,  0.4429],\n",
      "        [ 0.6609,  1.1515,  0.7965, -0.1863],\n",
      "        [ 0.8252,  0.0250, -0.0552,  1.1245]])\n",
      "\n",
      "subtract方法进行张量减法运算结果\n",
      " tensor([[ 1.1934,  0.0268,  1.5484,  0.4429],\n",
      "        [ 0.6609,  1.1515,  0.7965, -0.1863],\n",
      "        [ 0.8252,  0.0250, -0.0552,  1.1245]])\n"
     ]
    }
   ],
   "source": [
    "# 张量的数学运算\n",
    "tensor_1 = torch.ones(3, 4)\n",
    "tensor_2 = torch.randn(3, 4)\n",
    "\n",
    "print(tensor_1)\n",
    "print(tensor_2)\n",
    "print(\"\\nsub方法进行张量减法运算结果\\n\", tensor_1.sub(tensor_2))\n",
    "print(\"\\nsubtract方法进行张量减法运算结果\\n\", tensor_1.subtract(tensor_2))"
   ]
  },
  {
   "cell_type": "code",
   "execution_count": 51,
   "metadata": {},
   "outputs": [
    {
     "name": "stdout",
     "output_type": "stream",
     "text": [
      "张量tensor_1为：\n",
      " tensor([[-1.9195,  0.9342,  1.0556,  1.5316, -1.2903],\n",
      "        [ 0.4775, -0.9406, -1.6118,  1.7087,  0.2679],\n",
      "        [ 0.8143,  0.3728, -0.1815, -0.1153, -1.0475]])\n",
      "\n",
      "获取张量tensor1的第一列为：\n",
      " tensor([-1.9195,  0.4775,  0.8143])\n",
      "\n",
      "获取张量tensor1的第一列为：\n",
      " tensor([-1.9195,  0.9342,  1.0556,  1.5316, -1.2903])\n",
      "\n",
      "获取张量tensor1的倒数两列为：\n",
      " tensor([[ 1.5316, -1.2903],\n",
      "        [ 1.7087,  0.2679],\n",
      "        [-0.1153, -1.0475]])\n",
      "\n",
      "获取张量tensor1的倒数两行为：\n",
      " tensor([[ 0.4775, -0.9406, -1.6118,  1.7087,  0.2679],\n",
      "        [ 0.8143,  0.3728, -0.1815, -0.1153, -1.0475]])\n"
     ]
    }
   ],
   "source": [
    "tensor_1 = torch.randn(3, 5)\n",
    "print(\"张量tensor_1为：\\n\", tensor_1)\n",
    "\n",
    "# 取得张量tensor_1第一列\n",
    "tensor_col1 = tensor_1[:,0]\n",
    "print(\"\\n获取张量tensor1的第一列为：\\n\", tensor_col1)\n",
    "\n",
    "# 取得张量tensor_1第一行\n",
    "tensor_row1 = tensor_1[0,:]\n",
    "print(\"\\n获取张量tensor1的第一列为：\\n\", tensor_row1)\n",
    "\n",
    "# 取得张量tensor_1倒数两列\n",
    "tensor_cols = tensor_1[:,-2:]\n",
    "print(\"\\n获取张量tensor1的倒数两列为：\\n\", tensor_cols)\n",
    "\n",
    "# 取得张量tensor_1倒数两行\n",
    "tensor_rows = tensor_1[-2:,:]\n",
    "print(\"\\n获取张量tensor1的倒数两行为：\\n\", tensor_rows)"
   ]
  }
 ],
 "metadata": {
  "kernelspec": {
   "display_name": "Python 3.9.12 ('base')",
   "language": "python",
   "name": "python3"
  },
  "language_info": {
   "codemirror_mode": {
    "name": "ipython",
    "version": 3
   },
   "file_extension": ".py",
   "mimetype": "text/x-python",
   "name": "python",
   "nbconvert_exporter": "python",
   "pygments_lexer": "ipython3",
   "version": "3.9.13"
  },
  "orig_nbformat": 4,
  "vscode": {
   "interpreter": {
    "hash": "a663d525a294a75b868378a51d8db00740236484748f17e7fef628dae424325b"
   }
  }
 },
 "nbformat": 4,
 "nbformat_minor": 2
}
